{
 "cells": [
  {
   "cell_type": "markdown",
   "id": "9e3b6b45",
   "metadata": {
    "id": "9e3b6b45"
   },
   "source": [
    "# Python for begyndere"
   ]
  },
  {
   "cell_type": "markdown",
   "id": "becec720",
   "metadata": {},
   "source": [
    "## Åbn dokumentet her"
   ]
  },
  {
   "cell_type": "markdown",
   "id": "f7076e3e",
   "metadata": {},
   "source": [
    "1. Gå ind på [https://link.com](https://link.com).\n",
    "2. Tryk på \"Kopíer til Drev\"\n",
    "3. Log ind med din Google-konto"
   ]
  },
  {
   "cell_type": "markdown",
   "id": "e7c9036e",
   "metadata": {},
   "source": [
    "## Integrerede udviklingsmiljøer (IDE'er) til Python: Google Colab og VS Code"
   ]
  },
  {
   "cell_type": "markdown",
   "id": "93eb1962",
   "metadata": {},
   "source": [
    "Den her fil er en såkaldt Notebook, som kombinerer Python-kode, grafer og formatteret tekst som denne i samme dokument. De 3 trin ovenfor beskriver, hvordan du åbner dokumentet i Google Colab, som er Googles online udviklingsmiljø (IDE) til Python Notebooks. Alternativt kan du også downloade og åbne dokumentet lokalt på din computer - fx i Visual Studio Code (VS Code), som er mit personlige foretrukne IDE til Python.\n",
    "\n",
    "### Installér Python lokalt (ikke nødvendigt for kurset her)\n",
    "Hvis du ønsker at åbne Notebook'en i en anden IDE end Colab, så kræver det, at du installerer Python lokalt. \n",
    "Som udgangspunkt kan du installere Python gennem [Anaconda-distributionen](https://www.anaconda.com/), som udover Python også installerer en række pakker til databehandling og forskellige IDE'er.\n",
    "\n",
    "**OBS:** Vær dog opmærksom på, at dit universitet/arbejdsplads muligvis har en anden foretrukken distribution. Se fx DTUs installationsguide [her](https://pythonsupport.dtu.dk/python/install.html). Som udgangspunkt skal du kun installere én distribution, da de ellers kan konflikte med hinanden.\n",
    "\n",
    "### Tastaturgenveje i Google Colab\n",
    "| Genvej                | Kommando                          |\n",
    "|:---------------------:|:---------------------------------:|\n",
    "| alt (option) + enter  | Kør celle og indsæt ny under      |\n",
    "| shift + enter         | Kør celle og markér næste         |\n",
    "| ctr + M, M            | Ændr celle til tekst              |\n",
    "| ctr + M, Y            | Ændr celle til kode               |\n",
    "| ctr + D, D            | Fjern celle                       |"
   ]
  },
  {
   "cell_type": "markdown",
   "id": "61e5cabd",
   "metadata": {},
   "source": [
    "## Hello Python!"
   ]
  },
  {
   "cell_type": "markdown",
   "id": "9f732ee6",
   "metadata": {},
   "source": [
    "Python er et programmeringssprog, som muliggør, at du kan instruere computeren i at udføre opgaver for dig. Det gør du ved at give computeren kommandoer.\n",
    "\n",
    "Fx kan du få Python til at skrive noget tekst med `print` kommandoen:"
   ]
  },
  {
   "cell_type": "code",
   "execution_count": 23,
   "id": "612069c1",
   "metadata": {},
   "outputs": [
    {
     "name": "stdout",
     "output_type": "stream",
     "text": [
      "Hello Python!\n"
     ]
    }
   ],
   "source": [
    "print('Hello Python!')"
   ]
  },
  {
   "cell_type": "markdown",
   "id": "c8e3502f",
   "metadata": {},
   "source": [
    "**Bemærk**\n",
    "1. `print` er navnet på kommandoen. Kommondonavnet efterfølges af paranteser, som man propper indholdet til kommandoen ind i (altså teksten, der skal vises).\n",
    "2. Teksten, der skal vises er omkranset af citationstegn."
   ]
  },
  {
   "cell_type": "markdown",
   "id": "189a53fa",
   "metadata": {},
   "source": [
    "### Kommentarer"
   ]
  },
  {
   "cell_type": "markdown",
   "id": "2a5cb0df",
   "metadata": {},
   "source": [
    "Linjer der starter med en havelåge (`#`) er kommentarer, som vil blive ignoreret af Python. Kommentarer er tænkt til at blive læst af mennesker frem for af computeren."
   ]
  },
  {
   "cell_type": "code",
   "execution_count": 33,
   "id": "a2e5b320",
   "metadata": {},
   "outputs": [
    {
     "name": "stdout",
     "output_type": "stream",
     "text": [
      "3. Denne linje bliver kørt\n"
     ]
    }
   ],
   "source": [
    "# 1. Denne linje vil ikke blive kørt af programmet.\n",
    "# 2. print('Denne linje bliver heller ikke kørt').\n",
    "print('3. Denne linje bliver kørt')"
   ]
  },
  {
   "cell_type": "markdown",
   "id": "fa987584",
   "metadata": {},
   "source": [
    "#### Kommentarer på flere linjer"
   ]
  },
  {
   "cell_type": "markdown",
   "id": "c15d7246",
   "metadata": {},
   "source": [
    "Man kan også lave kommentarer på flere linjer ved at omslutte linjerne med tre enkelt-citationstegn:"
   ]
  },
  {
   "cell_type": "code",
   "execution_count": 31,
   "id": "22110257",
   "metadata": {},
   "outputs": [
    {
     "name": "stdout",
     "output_type": "stream",
     "text": [
      "4. Denne linje bliver kørt\n"
     ]
    }
   ],
   "source": [
    "'''\n",
    "Disse linjer bliver ikke kørt:\n",
    "print('1. Denne linje bliver heller ikke kørt')\n",
    "print('2. Denne linje bliver heller ikke kørt')\n",
    "print('3. Denne linje bliver heller ikke kørt')\n",
    "'''\n",
    "\n",
    "print('4. Denne linje bliver kørt')"
   ]
  },
  {
   "cell_type": "markdown",
   "id": "f806ea81",
   "metadata": {},
   "source": [
    "## Python Notebook som en lommeregner"
   ]
  },
  {
   "cell_type": "markdown",
   "id": "6d8ee80c",
   "metadata": {},
   "source": [
    "Du kan bruge Python som en lommeregner ved at skrive regnestykkerne ind i kodeceller: "
   ]
  },
  {
   "cell_type": "markdown",
   "id": "1f207649",
   "metadata": {},
   "source": [
    "### Addition, Subtraktion, Multiplikation, Division"
   ]
  },
  {
   "cell_type": "code",
   "execution_count": 6,
   "id": "07fdf3d6",
   "metadata": {},
   "outputs": [
    {
     "data": {
      "text/plain": [
       "5"
      ]
     },
     "execution_count": 6,
     "metadata": {},
     "output_type": "execute_result"
    }
   ],
   "source": [
    "2+3"
   ]
  },
  {
   "cell_type": "code",
   "execution_count": 9,
   "id": "7296c17d",
   "metadata": {},
   "outputs": [
    {
     "data": {
      "text/plain": [
       "-1"
      ]
     },
     "execution_count": 9,
     "metadata": {},
     "output_type": "execute_result"
    }
   ],
   "source": [
    "2-3"
   ]
  },
  {
   "cell_type": "code",
   "execution_count": 12,
   "id": "673c253c",
   "metadata": {},
   "outputs": [
    {
     "data": {
      "text/plain": [
       "6"
      ]
     },
     "execution_count": 12,
     "metadata": {},
     "output_type": "execute_result"
    }
   ],
   "source": [
    "2*3"
   ]
  },
  {
   "cell_type": "code",
   "execution_count": 15,
   "id": "d3a50386",
   "metadata": {},
   "outputs": [
    {
     "data": {
      "text/plain": [
       "0.6666666666666666"
      ]
     },
     "execution_count": 15,
     "metadata": {},
     "output_type": "execute_result"
    }
   ],
   "source": [
    "2/3"
   ]
  },
  {
   "cell_type": "markdown",
   "id": "577b7e17",
   "metadata": {},
   "source": [
    "**Bemærk** hvordan Python Notebook'en altid viser resulatet af beregningen fra sidste linje neden for kodecellen"
   ]
  },
  {
   "cell_type": "markdown",
   "id": "40e24e8d",
   "metadata": {},
   "source": [
    "**OBS: Husk explicit gangetegn mellem paranteser, ellers får du en fejl:**"
   ]
  },
  {
   "cell_type": "code",
   "execution_count": 38,
   "id": "62019ee0",
   "metadata": {},
   "outputs": [],
   "source": [
    "# # Fjerner du kommenteringen (altså havelågen, #), så vil linjen nedenfor give en fejl:\n",
    "# (2+3)(2-3)"
   ]
  },
  {
   "cell_type": "code",
   "execution_count": 42,
   "id": "7ce8f272",
   "metadata": {},
   "outputs": [
    {
     "data": {
      "text/plain": [
       "-5"
      ]
     },
     "execution_count": 42,
     "metadata": {},
     "output_type": "execute_result"
    }
   ],
   "source": [
    "# Med eksplicit gangetegn virker beregningen:\n",
    "(2+3)*(2-3)"
   ]
  },
  {
   "cell_type": "markdown",
   "id": "44e8484f",
   "metadata": {},
   "source": [
    "Du kan lave flere beregninger på samme linje ved at adskille dem med et komma:"
   ]
  },
  {
   "cell_type": "code",
   "execution_count": 52,
   "id": "2b49fadb",
   "metadata": {},
   "outputs": [
    {
     "data": {
      "text/plain": [
       "(5, -1, 6, 0.6666666666666666)"
      ]
     },
     "execution_count": 52,
     "metadata": {},
     "output_type": "execute_result"
    }
   ],
   "source": [
    "2+3, 2-3, 2*3, 2/3"
   ]
  },
  {
   "cell_type": "markdown",
   "id": "8b347d0f",
   "metadata": {},
   "source": [
    "### Potensopløftning"
   ]
  },
  {
   "cell_type": "markdown",
   "id": "4bc54a0a",
   "metadata": {},
   "source": [
    "Hvis du vil udregne $2^3$ kan du bruge en dobbelt asterix, \\*\\*, for at opløfte et tal i en potens:"
   ]
  },
  {
   "cell_type": "code",
   "execution_count": 14,
   "id": "b8fa54f8",
   "metadata": {},
   "outputs": [
    {
     "data": {
      "text/plain": [
       "8"
      ]
     },
     "execution_count": 14,
     "metadata": {},
     "output_type": "execute_result"
    }
   ],
   "source": [
    "2**3"
   ]
  },
  {
   "cell_type": "markdown",
   "id": "5d874420",
   "metadata": {},
   "source": [
    "### Matematiske konstanter og elementære funktioner"
   ]
  },
  {
   "cell_type": "markdown",
   "id": "6cb7c763",
   "metadata": {},
   "source": [
    "For at udregne fx $\\sqrt{x}, e^{x}, \\ln(x), \\sin(x)$ skal vi have fat i et kodebibliotek som NumPy. NumPy-biblioteket er en samling af nyttige funktionalitet til at regne numerisk matematik."
   ]
  },
  {
   "cell_type": "markdown",
   "id": "77f5c5ec",
   "metadata": {},
   "source": [
    "**Hent NumPy-biblioteket ind i sessionen her:**"
   ]
  },
  {
   "cell_type": "code",
   "execution_count": 43,
   "id": "d7f30135",
   "metadata": {},
   "outputs": [],
   "source": [
    "import numpy as np"
   ]
  },
  {
   "cell_type": "markdown",
   "id": "4587ddda",
   "metadata": {},
   "source": [
    "**Eksempel: Udregn de følgende fire regnstykker numerisk på samme linje:**"
   ]
  },
  {
   "cell_type": "markdown",
   "id": "dad62d09",
   "metadata": {},
   "source": [
    "$\\sqrt{2} \\approx 1.4142, \\quad e^2 \\approx 7.3891, \\quad \\ln(e^2) = 2, \\quad \\sin(-\\frac{\\pi}{2}) = -1$"
   ]
  },
  {
   "cell_type": "code",
   "execution_count": 53,
   "id": "9ab01559",
   "metadata": {},
   "outputs": [
    {
     "data": {
      "text/plain": [
       "(1.4142135623730951, 7.38905609893065, 2.0, -1.0)"
      ]
     },
     "execution_count": 53,
     "metadata": {},
     "output_type": "execute_result"
    }
   ],
   "source": [
    "np.sqrt(2), np.exp(2), np.log(np.exp(2)), np.sin(-np.pi/2)"
   ]
  },
  {
   "cell_type": "markdown",
   "id": "5f69285d",
   "metadata": {},
   "source": [
    "### Symbolsk matematik"
   ]
  },
  {
   "cell_type": "markdown",
   "id": "b7dc1a27",
   "metadata": {},
   "source": [
    "Python har også SymPy-biblioteket, som i modsætningen til NumPy regner eksakt frem for numerisk. SymPy kan evaluere og simplificere matematiske udtryk eksakt, løse ligninger, tegne funktioner, differentiere, integerere og meget mere. Du kan læse mere om SymPy på deres webside: [https://www.sympy.org/](https://www.sympy.org/)."
   ]
  },
  {
   "cell_type": "markdown",
   "id": "8d5fad5c",
   "metadata": {},
   "source": [
    "Som et lille eksempel ville SymPy, i modsætning til NumPy ovenfor, ikke give en decimaltalstilnærmelsen af kvadratroden af 2, men holde fast i den eksakte værdi:"
   ]
  },
  {
   "cell_type": "code",
   "execution_count": 54,
   "id": "2ee74edd",
   "metadata": {},
   "outputs": [
    {
     "data": {
      "text/latex": [
       "$\\displaystyle \\sqrt{2}$"
      ],
      "text/plain": [
       "sqrt(2)"
      ]
     },
     "execution_count": 54,
     "metadata": {},
     "output_type": "execute_result"
    }
   ],
   "source": [
    "import sympy as sp\n",
    "\n",
    "sp.sqrt(2)"
   ]
  },
  {
   "cell_type": "markdown",
   "id": "8f1d7d36",
   "metadata": {},
   "source": [
    "## Variabler"
   ]
  },
  {
   "cell_type": "markdown",
   "id": "382dbece",
   "metadata": {},
   "source": [
    "## Datatyper"
   ]
  },
  {
   "cell_type": "markdown",
   "id": "91c486b2",
   "metadata": {},
   "source": [
    "### Tal og tekst"
   ]
  },
  {
   "cell_type": "markdown",
   "id": "00cd1484",
   "metadata": {},
   "source": [
    "### Lister"
   ]
  },
  {
   "cell_type": "markdown",
   "id": "aee92839",
   "metadata": {},
   "source": [
    "### Dictionaries"
   ]
  },
  {
   "cell_type": "markdown",
   "id": "0e1f282e",
   "metadata": {},
   "source": [
    "### NumPy Arrays"
   ]
  },
  {
   "cell_type": "markdown",
   "id": "67efd423",
   "metadata": {},
   "source": [
    "### Booleans og Betinget Kode"
   ]
  },
  {
   "cell_type": "markdown",
   "id": "1a8d5181",
   "metadata": {},
   "source": [
    "## If/Else Statements"
   ]
  },
  {
   "cell_type": "markdown",
   "id": "66ffe20f",
   "metadata": {},
   "source": [
    "## Funktioner"
   ]
  },
  {
   "cell_type": "markdown",
   "id": "52a7f420",
   "metadata": {},
   "source": [
    "## Løkker"
   ]
  },
  {
   "cell_type": "markdown",
   "id": "99ed131e",
   "metadata": {},
   "source": []
  }
 ],
 "metadata": {
  "colab": {
   "collapsed_sections": [
    "8xO0PpNMZltu",
    "R_UaQhuxZJ9n",
    "66d9a012",
    "9bd4b220",
    "af2e113f",
    "6f892cdc",
    "2d9e9210",
    "e4b64c89",
    "29ed3e2b",
    "49db0972",
    "dfea25f4",
    "b3e01365",
    "d49cfe88",
    "118907ea",
    "f8829751",
    "c0818410",
    "16ae841d",
    "c16fa53d",
    "5dcfcf13"
   ],
   "provenance": []
  },
  "kernelspec": {
   "display_name": "Python 3 (ipykernel)",
   "language": "python",
   "name": "python3"
  },
  "language_info": {
   "codemirror_mode": {
    "name": "ipython",
    "version": 3
   },
   "file_extension": ".py",
   "mimetype": "text/x-python",
   "name": "python",
   "nbconvert_exporter": "python",
   "pygments_lexer": "ipython3",
   "version": "3.11.4"
  }
 },
 "nbformat": 4,
 "nbformat_minor": 5
}
