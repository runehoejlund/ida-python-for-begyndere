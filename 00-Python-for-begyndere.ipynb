{
 "cells": [
  {
   "cell_type": "markdown",
   "id": "9e3b6b45",
   "metadata": {
    "id": "9e3b6b45"
   },
   "source": [
    "# Python for begyndere"
   ]
  },
  {
   "cell_type": "markdown",
   "id": "becec720",
   "metadata": {},
   "source": [
    "## Åbn dokumentet her"
   ]
  },
  {
   "cell_type": "markdown",
   "id": "f7076e3e",
   "metadata": {},
   "source": [
    "1. Gå ind på [https://link.com](https://link.com).\n",
    "2. Tryk på \"Kopíer til Drev\"\n",
    "3. Log ind med din Google-konto"
   ]
  },
  {
   "cell_type": "markdown",
   "id": "e7c9036e",
   "metadata": {},
   "source": [
    "## Integrerede udviklingsmiljøer (IDE'er) til Python: Google Colab og VS Code"
   ]
  },
  {
   "cell_type": "markdown",
   "id": "93eb1962",
   "metadata": {},
   "source": [
    "Den her fil er en såkaldt Notebook, som kombinerer Python-kode, grafer og formatteret tekst som denne i samme dokument. De 3 trin ovenfor beskriver, hvordan du åbner dokumentet i Google Colab, som er Googles online udviklingsmiljø (IDE) til Python Notebooks. Alternativt kan du også downloade og åbne dokumentet lokalt på din computer - fx i Visual Studio Code (VS Code), som er mit personlige foretrukne IDE til Python.\n",
    "\n",
    "### Installér Python lokalt (ikke nødvendigt for kurset her)\n",
    "Hvis du ønsker at åbne Notebook'en i en anden IDE end Colab, så kræver det, at du installerer Python lokalt. \n",
    "Som udgangspunkt kan du installere Python gennem [Anaconda-distributionen](https://www.anaconda.com/), som udover Python også installerer en række pakker til databehandling og forskellige IDE'er.\n",
    "\n",
    "**OBS:** Vær dog opmærksom på, at dit universitet/arbejdsplads muligvis har en anden foretrukken distribution. Se fx DTUs installationsguide [her](https://pythonsupport.dtu.dk/python/install.html). Som udgangspunkt skal du kun installere én distribution, da de ellers kan konflikte med hinanden.\n",
    "\n",
    "### Tastaturgenveje i Google Colab\n",
    "| Genvej                | Kommando                          |\n",
    "|:---------------------:|:---------------------------------:|\n",
    "| alt (option) + enter  | Kør celle og indsæt ny under      |\n",
    "| shift + enter         | Kør celle og markér næste         |\n",
    "| ctr + M, M            | Ændr celle til tekst              |\n",
    "| ctr + M, Y            | Ændr celle til kode               |\n",
    "| ctr + D, D            | Fjern celle                       |"
   ]
  },
  {
   "cell_type": "markdown",
   "id": "61e5cabd",
   "metadata": {},
   "source": [
    "## Hello Python!"
   ]
  },
  {
   "cell_type": "markdown",
   "id": "9f732ee6",
   "metadata": {},
   "source": [
    "Python er et programmeringssprog, som muliggør, at du kan instruere computeren i at udføre opgaver for dig. Det gør du ved at give computeren kommandoer.\n",
    "\n",
    "Fx kan du få Python til at skrive noget tekst med `print` kommandoen:"
   ]
  },
  {
   "cell_type": "code",
   "execution_count": 1,
   "id": "612069c1",
   "metadata": {},
   "outputs": [
    {
     "name": "stdout",
     "output_type": "stream",
     "text": [
      "Hello Python!\n"
     ]
    }
   ],
   "source": [
    "print('Hello Python!')"
   ]
  },
  {
   "cell_type": "markdown",
   "id": "c8e3502f",
   "metadata": {},
   "source": [
    "**Bemærk**\n",
    "1. `print` er navnet på kommandoen. Kommondonavnet efterfølges af paranteser, som man propper indholdet til kommandoen ind i (altså teksten, der skal vises).\n",
    "2. Teksten, der skal vises er omkranset af citationstegn."
   ]
  },
  {
   "cell_type": "markdown",
   "id": "189a53fa",
   "metadata": {},
   "source": [
    "### Kommentarer"
   ]
  },
  {
   "cell_type": "markdown",
   "id": "2a5cb0df",
   "metadata": {},
   "source": [
    "Linjer der starter med en havelåge (`#`) er kommentarer, som vil blive ignoreret af Python. Kommentarer er tænkt til at blive læst af mennesker frem for af computeren. I denne notebook holder jeg sproget i kommentarer og i kode generelt på engelsk."
   ]
  },
  {
   "cell_type": "code",
   "execution_count": 2,
   "id": "a2e5b320",
   "metadata": {},
   "outputs": [
    {
     "name": "stdout",
     "output_type": "stream",
     "text": [
      "3. This line is executed\n"
     ]
    }
   ],
   "source": [
    "# 1. This line is not executed\n",
    "# 2. print('This line is also not executed').\n",
    "print('3. This line is executed')"
   ]
  },
  {
   "cell_type": "markdown",
   "id": "fa987584",
   "metadata": {},
   "source": [
    "#### Kommentarer på flere linjer"
   ]
  },
  {
   "cell_type": "markdown",
   "id": "c15d7246",
   "metadata": {},
   "source": [
    "Man kan også lave kommentarer på flere linjer ved at omslutte linjerne med tre enkelt-citationstegn:"
   ]
  },
  {
   "cell_type": "code",
   "execution_count": 3,
   "id": "22110257",
   "metadata": {},
   "outputs": [
    {
     "name": "stdout",
     "output_type": "stream",
     "text": [
      "4. This line is executed\n"
     ]
    }
   ],
   "source": [
    "'''\n",
    "These lines are not executed:\n",
    "print('1.')\n",
    "print('2.')\n",
    "print('3.')\n",
    "'''\n",
    "\n",
    "print('4. This line is executed')"
   ]
  },
  {
   "cell_type": "markdown",
   "id": "f806ea81",
   "metadata": {},
   "source": [
    "## Python Notebook som en lommeregner"
   ]
  },
  {
   "cell_type": "markdown",
   "id": "6d8ee80c",
   "metadata": {},
   "source": [
    "Du kan bruge Python som en lommeregner ved at skrive regnestykkerne ind i kodeceller: "
   ]
  },
  {
   "cell_type": "markdown",
   "id": "1f207649",
   "metadata": {},
   "source": [
    "### Addition, Subtraktion, Multiplikation, Division"
   ]
  },
  {
   "cell_type": "code",
   "execution_count": 4,
   "id": "07fdf3d6",
   "metadata": {},
   "outputs": [
    {
     "data": {
      "text/plain": [
       "5"
      ]
     },
     "execution_count": 4,
     "metadata": {},
     "output_type": "execute_result"
    }
   ],
   "source": [
    "2+3"
   ]
  },
  {
   "cell_type": "code",
   "execution_count": 5,
   "id": "7296c17d",
   "metadata": {},
   "outputs": [
    {
     "data": {
      "text/plain": [
       "-1"
      ]
     },
     "execution_count": 5,
     "metadata": {},
     "output_type": "execute_result"
    }
   ],
   "source": [
    "2-3"
   ]
  },
  {
   "cell_type": "code",
   "execution_count": 6,
   "id": "673c253c",
   "metadata": {},
   "outputs": [
    {
     "data": {
      "text/plain": [
       "6"
      ]
     },
     "execution_count": 6,
     "metadata": {},
     "output_type": "execute_result"
    }
   ],
   "source": [
    "2*3"
   ]
  },
  {
   "cell_type": "code",
   "execution_count": 7,
   "id": "d3a50386",
   "metadata": {},
   "outputs": [
    {
     "data": {
      "text/plain": [
       "0.6666666666666666"
      ]
     },
     "execution_count": 7,
     "metadata": {},
     "output_type": "execute_result"
    }
   ],
   "source": [
    "2/3"
   ]
  },
  {
   "cell_type": "markdown",
   "id": "40e24e8d",
   "metadata": {},
   "source": [
    "**OBS: Husk explicit gangetegn mellem paranteser, ellers får du en fejl:**"
   ]
  },
  {
   "cell_type": "code",
   "execution_count": 8,
   "id": "62019ee0",
   "metadata": {},
   "outputs": [],
   "source": [
    "# # If you remove the commenting (the hash mark, #), the line below will produce an error.\n",
    "# (2+3)(2-3)"
   ]
  },
  {
   "cell_type": "code",
   "execution_count": 9,
   "id": "7ce8f272",
   "metadata": {},
   "outputs": [
    {
     "data": {
      "text/plain": [
       "-5"
      ]
     },
     "execution_count": 9,
     "metadata": {},
     "output_type": "execute_result"
    }
   ],
   "source": [
    "# With an eksplicit multiplication symbol, the calculation works\n",
    "(2+3)*(2-3)"
   ]
  },
  {
   "cell_type": "markdown",
   "id": "42f86a27",
   "metadata": {},
   "source": [
    "#### Flere beregninger i samme kodecelle"
   ]
  },
  {
   "cell_type": "markdown",
   "id": "44e8484f",
   "metadata": {},
   "source": [
    "Du kan lave flere beregninger på samme linje ved at adskille dem med et komma:"
   ]
  },
  {
   "cell_type": "code",
   "execution_count": 10,
   "id": "2b49fadb",
   "metadata": {},
   "outputs": [
    {
     "data": {
      "text/plain": [
       "(5, -1, 6, 0.6666666666666666)"
      ]
     },
     "execution_count": 10,
     "metadata": {},
     "output_type": "execute_result"
    }
   ],
   "source": [
    "2+3, 2-3, 2*3, 2/3"
   ]
  },
  {
   "cell_type": "markdown",
   "id": "364cf3e1",
   "metadata": {},
   "source": [
    "Python Notebook'en viser kun resulatet af beregningen fra sidste linje neden for kodecellen:"
   ]
  },
  {
   "cell_type": "code",
   "execution_count": 11,
   "id": "8c35a8c6",
   "metadata": {},
   "outputs": [
    {
     "data": {
      "text/plain": [
       "0.6666666666666666"
      ]
     },
     "execution_count": 11,
     "metadata": {},
     "output_type": "execute_result"
    }
   ],
   "source": [
    "2+3\n",
    "2-3\n",
    "2*3\n",
    "2/3"
   ]
  },
  {
   "cell_type": "markdown",
   "id": "17ba6bd6",
   "metadata": {},
   "source": [
    "Vil du have vist resultatet fra flere linjer, kan du bruge `print`-kommandoen fra tidligere:"
   ]
  },
  {
   "cell_type": "code",
   "execution_count": 12,
   "id": "72115ba7",
   "metadata": {},
   "outputs": [
    {
     "name": "stdout",
     "output_type": "stream",
     "text": [
      "5\n",
      "-1\n",
      "6\n",
      "0.6666666666666666\n"
     ]
    }
   ],
   "source": [
    "print(2+3)\n",
    "print(2-3)\n",
    "print(2*3)\n",
    "print(2/3)"
   ]
  },
  {
   "cell_type": "markdown",
   "id": "8b347d0f",
   "metadata": {},
   "source": [
    "### Potensopløftning"
   ]
  },
  {
   "cell_type": "markdown",
   "id": "4bc54a0a",
   "metadata": {},
   "source": [
    "Hvis du vil udregne $2^3$ kan du bruge en dobbelt asterix (`**`) for at opløfte et tal i en potens:"
   ]
  },
  {
   "cell_type": "code",
   "execution_count": 13,
   "id": "b8fa54f8",
   "metadata": {},
   "outputs": [
    {
     "data": {
      "text/plain": [
       "8"
      ]
     },
     "execution_count": 13,
     "metadata": {},
     "output_type": "execute_result"
    }
   ],
   "source": [
    "2**3"
   ]
  },
  {
   "cell_type": "markdown",
   "id": "5d874420",
   "metadata": {},
   "source": [
    "### Matematiske konstanter og elementære funktioner"
   ]
  },
  {
   "cell_type": "markdown",
   "id": "6cb7c763",
   "metadata": {},
   "source": [
    "For at udregne fx $\\sqrt{x}, e^{x}, \\ln(x), \\sin(x)$ skal vi have fat i et kodebibliotek som NumPy. NumPy-biblioteket er en samling af nyttige funktionalitet til at regne numerisk matematik."
   ]
  },
  {
   "cell_type": "markdown",
   "id": "77f5c5ec",
   "metadata": {},
   "source": [
    "**Hent NumPy-biblioteket ind i sessionen her:**"
   ]
  },
  {
   "cell_type": "code",
   "execution_count": 69,
   "id": "d7f30135",
   "metadata": {},
   "outputs": [],
   "source": [
    "import numpy as np"
   ]
  },
  {
   "cell_type": "markdown",
   "id": "b6cd74ec",
   "metadata": {},
   "source": [
    "Ovenstående er standardmetoden til at hente funktionerne fra NumPy-biblioteket ind i éns kodesession. Det skal læses såddan, at vi loader NumPy-pakken ind under navnet (aliaset) `np`. Fremover kan vi så tilgå NumPy-biblioteket som `np`, så vi ikke hver gang behøver skrive `NumPy`."
   ]
  },
  {
   "cell_type": "markdown",
   "id": "4587ddda",
   "metadata": {},
   "source": [
    "**Eksempel: Udregn de følgende fire regnstykker numerisk på samme linje:**"
   ]
  },
  {
   "cell_type": "markdown",
   "id": "dad62d09",
   "metadata": {},
   "source": [
    "$\\sqrt{2} \\approx 1.4142, \\quad e^2 \\approx 7.3891, \\quad \\ln(e^2) = 2, \\quad \\sin(-\\frac{\\pi}{2}) = -1$"
   ]
  },
  {
   "cell_type": "code",
   "execution_count": 15,
   "id": "9ab01559",
   "metadata": {},
   "outputs": [
    {
     "data": {
      "text/plain": [
       "(1.4142135623730951, 7.38905609893065, 2.0, -1.0)"
      ]
     },
     "execution_count": 15,
     "metadata": {},
     "output_type": "execute_result"
    }
   ],
   "source": [
    "np.sqrt(2), np.exp(2), np.log(np.exp(2)), np.sin(-np.pi/2)"
   ]
  },
  {
   "cell_type": "markdown",
   "id": "5f69285d",
   "metadata": {},
   "source": [
    "### Symbolsk matematik"
   ]
  },
  {
   "cell_type": "markdown",
   "id": "b7dc1a27",
   "metadata": {},
   "source": [
    "Python har også SymPy-biblioteket, som i modsætningen til NumPy regner eksakt frem for numerisk. SymPy kan evaluere og simplificere matematiske udtryk eksakt, løse ligninger, tegne funktioner, differentiere, integerere og meget mere."
   ]
  },
  {
   "cell_type": "markdown",
   "id": "8d5fad5c",
   "metadata": {},
   "source": [
    "Som et lille eksempel ville SymPy, i modsætning til NumPy ovenfor, ikke give en decimaltalstilnærmelsen af kvadratroden af 2, men holde fast i den eksakte værdi:"
   ]
  },
  {
   "cell_type": "code",
   "execution_count": 16,
   "id": "2ee74edd",
   "metadata": {},
   "outputs": [
    {
     "data": {
      "text/latex": [
       "$\\displaystyle \\sqrt{2}$"
      ],
      "text/plain": [
       "sqrt(2)"
      ]
     },
     "execution_count": 16,
     "metadata": {},
     "output_type": "execute_result"
    }
   ],
   "source": [
    "import sympy as sp\n",
    "\n",
    "sp.sqrt(2)"
   ]
  },
  {
   "cell_type": "markdown",
   "id": "e5678017",
   "metadata": {},
   "source": [
    "Du kan læse mere om SymPy på deres webside: [https://sympy.org/](https://sympy.org/)."
   ]
  },
  {
   "cell_type": "markdown",
   "id": "8f1d7d36",
   "metadata": {},
   "source": [
    "## Introduktion til variable"
   ]
  },
  {
   "cell_type": "markdown",
   "id": "dc29e376",
   "metadata": {},
   "source": [
    "En variabel er en pladsholder, hvori du kan gemme en værdi - fx tal, tekst eller andet. Du giver pladsholderen et navn, så du nemt kan bruge værdien senere i dit program."
   ]
  },
  {
   "cell_type": "markdown",
   "id": "b578525e",
   "metadata": {},
   "source": [
    "Fx. kan du definere dit navn og vise det."
   ]
  },
  {
   "cell_type": "code",
   "execution_count": 17,
   "id": "a9f0b2de",
   "metadata": {},
   "outputs": [
    {
     "name": "stdout",
     "output_type": "stream",
     "text": [
      "Slim Shady\n"
     ]
    }
   ],
   "source": [
    "name = 'Slim Shady'\n",
    "print(name)"
   ]
  },
  {
   "cell_type": "markdown",
   "id": "aac4583e",
   "metadata": {},
   "source": [
    "Eller vi kan definere en talvariabel og udføre beregninger med den"
   ]
  },
  {
   "cell_type": "code",
   "execution_count": 18,
   "id": "22b3620d",
   "metadata": {},
   "outputs": [
    {
     "data": {
      "text/plain": [
       "6"
      ]
     },
     "execution_count": 18,
     "metadata": {},
     "output_type": "execute_result"
    }
   ],
   "source": [
    "x = 2\n",
    "y = 3\n",
    "x*y"
   ]
  },
  {
   "cell_type": "markdown",
   "id": "661109af",
   "metadata": {},
   "source": [
    "### Definér variable i den rigtige rækkefølge"
   ]
  },
  {
   "cell_type": "markdown",
   "id": "8ceddeef",
   "metadata": {},
   "source": [
    "Python læser koden i en kodecelle oppefra og ned. Derfor, skal variablene være defineret før, du bruger dem. Fx virker flg. kodecelle ikke:"
   ]
  },
  {
   "cell_type": "code",
   "execution_count": 19,
   "id": "968050ba",
   "metadata": {},
   "outputs": [
    {
     "ename": "NameError",
     "evalue": "name 'z' is not defined",
     "output_type": "error",
     "traceback": [
      "\u001b[0;31m---------------------------------------------------------------------------\u001b[0m",
      "\u001b[0;31mNameError\u001b[0m                                 Traceback (most recent call last)",
      "Cell \u001b[0;32mIn[19], line 3\u001b[0m\n\u001b[1;32m      1\u001b[0m x \u001b[38;5;241m=\u001b[39m \u001b[38;5;241m2\u001b[39m\n\u001b[1;32m      2\u001b[0m y \u001b[38;5;241m=\u001b[39m \u001b[38;5;241m3\u001b[39m\n\u001b[0;32m----> 3\u001b[0m \u001b[38;5;28mprint\u001b[39m(x\u001b[38;5;241m*\u001b[39my\u001b[38;5;241m*\u001b[39mz)\n\u001b[1;32m      4\u001b[0m z \u001b[38;5;241m=\u001b[39m \u001b[38;5;241m3\u001b[39m\n",
      "\u001b[0;31mNameError\u001b[0m: name 'z' is not defined"
     ]
    }
   ],
   "source": [
    "x = 2\n",
    "y = 3\n",
    "print(x*y*z)\n",
    "z = 3"
   ]
  },
  {
   "cell_type": "markdown",
   "id": "7db6900b",
   "metadata": {},
   "source": [
    "#### Variable gemmes i resten af sessionen"
   ]
  },
  {
   "cell_type": "markdown",
   "id": "0550b31c",
   "metadata": {},
   "source": [
    "Når du har defineret en variabel i en kodecelle, som du tidligere har kørt, så vil den fortsat være tilgængelig i resten af sessionen:"
   ]
  },
  {
   "cell_type": "code",
   "execution_count": 20,
   "id": "279194c6",
   "metadata": {},
   "outputs": [
    {
     "name": "stdout",
     "output_type": "stream",
     "text": [
      "6\n",
      "Slim Shady\n"
     ]
    }
   ],
   "source": [
    "print(x*y)\n",
    "print(name)"
   ]
  },
  {
   "cell_type": "markdown",
   "id": "5e9dcb0d",
   "metadata": {},
   "source": [
    "#### Genstart Sessionen"
   ]
  },
  {
   "cell_type": "markdown",
   "id": "0d3f773a",
   "metadata": {},
   "source": [
    "Du kan genstarte sessionen og derved slette alle variable. I Google Colab gøres dette ved at vælge: \"Kørselstid > Genstart Sessionen\"."
   ]
  },
  {
   "cell_type": "markdown",
   "id": "382dbece",
   "metadata": {},
   "source": [
    "## Datatyper: Tal, tekst, lister, dictionaries, boolske værdier"
   ]
  },
  {
   "cell_type": "markdown",
   "id": "ceb13f1e",
   "metadata": {},
   "source": [
    "En variabels type angiver hvilke slags værdier, variablen kan indholde. Python bestemmer automatisk datatyper for variable, men når man programmerer, er det ofte vigtigt selv at vide hvad datatyperne af ens variable er."
   ]
  },
  {
   "cell_type": "markdown",
   "id": "91c486b2",
   "metadata": {},
   "source": [
    "### Tal"
   ]
  },
  {
   "cell_type": "markdown",
   "id": "a00cb15a",
   "metadata": {},
   "source": [
    "#### `int`: Heltal (eng. integers)"
   ]
  },
  {
   "cell_type": "markdown",
   "id": "5ca9ab66",
   "metadata": {},
   "source": [
    "Heltal, altså $\\cdots, -2, -1, 0, 1, 2, \\cdots$ har typen `int`. Fx er $a, b, c$ alle af typen `int` nedenfor:"
   ]
  },
  {
   "cell_type": "code",
   "execution_count": 21,
   "id": "c1839b54",
   "metadata": {},
   "outputs": [
    {
     "data": {
      "text/plain": [
       "(2, 3, -1)"
      ]
     },
     "execution_count": 21,
     "metadata": {},
     "output_type": "execute_result"
    }
   ],
   "source": [
    "a = 2\n",
    "b = 3\n",
    "c = a-b\n",
    "a, b, c"
   ]
  },
  {
   "cell_type": "markdown",
   "id": "f41251e7",
   "metadata": {},
   "source": [
    "Man kan tjekke typen af en variabel med `type`-kommandoen:"
   ]
  },
  {
   "cell_type": "code",
   "execution_count": 22,
   "id": "5bba12da",
   "metadata": {},
   "outputs": [
    {
     "data": {
      "text/plain": [
       "int"
      ]
     },
     "execution_count": 22,
     "metadata": {},
     "output_type": "execute_result"
    }
   ],
   "source": [
    "type(c)"
   ]
  },
  {
   "cell_type": "markdown",
   "id": "3398f985",
   "metadata": {},
   "source": [
    "#### `float`: Decimaltal (eng. floating point numbers)"
   ]
  },
  {
   "cell_type": "markdown",
   "id": "6b51f0b6",
   "metadata": {},
   "source": [
    "Decimaltalstilnærmelsen til reelle tal har typen `float`."
   ]
  },
  {
   "cell_type": "code",
   "execution_count": 23,
   "id": "dd166b35",
   "metadata": {},
   "outputs": [
    {
     "data": {
      "text/plain": [
       "(0.6666666666666666, float)"
      ]
     },
     "execution_count": 23,
     "metadata": {},
     "output_type": "execute_result"
    }
   ],
   "source": [
    "d = 2/3\n",
    "d, type(d)"
   ]
  },
  {
   "cell_type": "markdown",
   "id": "4e0f8166",
   "metadata": {},
   "source": [
    "#### `complex`: Komplekse tal (eng. complex numbers)"
   ]
  },
  {
   "cell_type": "markdown",
   "id": "e31eb1e9",
   "metadata": {},
   "source": [
    "Komplekse tal kan repræsenteres på kvadratisk form, hvor `j` bruges til det imaginære tal som er defineret ved $j^2 = -1$.Fx: "
   ]
  },
  {
   "cell_type": "code",
   "execution_count": 24,
   "id": "0a3b5850",
   "metadata": {},
   "outputs": [],
   "source": [
    "z = 2 + 3j"
   ]
  },
  {
   "cell_type": "markdown",
   "id": "8edbebd1",
   "metadata": {},
   "source": [
    "Hvis du ikke kender til komplekse tal, kan du bare ignorere dette eksempel 😊."
   ]
  },
  {
   "cell_type": "markdown",
   "id": "0c434d41",
   "metadata": {},
   "source": [
    "### Tekst"
   ]
  },
  {
   "cell_type": "markdown",
   "id": "0ec4c231",
   "metadata": {},
   "source": [
    "#### `str`: Tekststreng (eng. string)"
   ]
  },
  {
   "cell_type": "markdown",
   "id": "0345b0a8",
   "metadata": {},
   "source": [
    "Et tekststykke har typen `str` og omsluttes af citationstegn i Python:"
   ]
  },
  {
   "cell_type": "code",
   "execution_count": 25,
   "id": "06fd80b9",
   "metadata": {},
   "outputs": [
    {
     "name": "stdout",
     "output_type": "stream",
     "text": [
      "Charles Dickens\n"
     ]
    }
   ],
   "source": [
    "author = 'Charles Dickens'\n",
    "print(author)"
   ]
  },
  {
   "cell_type": "markdown",
   "id": "734095be",
   "metadata": {},
   "source": [
    "**Dobbelt- og enkeltcitationstegn**\n",
    "\n",
    "Både dobbelt- og enkeltcitationstegn virker i Python. Den ene mulighed kan bruges, hvis man fx vil indsætte det andet citationstegn som en del af selve teksstrengen. Alternativt kan man bruge `\\` til at få citationstegn ind i selve tekststrengen:"
   ]
  },
  {
   "cell_type": "code",
   "execution_count": 26,
   "id": "7b9f7152",
   "metadata": {},
   "outputs": [
    {
     "name": "stdout",
     "output_type": "stream",
     "text": [
      "This 'text string' contains single quotation marks and is therefore encapsulated with double quotation marks, i.e. \" .. \"\n"
     ]
    }
   ],
   "source": [
    "print(\"This 'text string' contains single quotation marks and is therefore encapsulated with double quotation marks, i.e. \\\" .. \\\"\")"
   ]
  },
  {
   "cell_type": "markdown",
   "id": "17aa5c37",
   "metadata": {},
   "source": [
    "#### Sammensætning af teksstykker\n",
    "\n",
    "Man kan sammensætte flere tekststrenge til én tekststreng ved at \"plusse\" dem sammen. Fx:"
   ]
  },
  {
   "cell_type": "code",
   "execution_count": 27,
   "id": "26c8c748",
   "metadata": {},
   "outputs": [
    {
     "name": "stdout",
     "output_type": "stream",
     "text": [
      "Charles Dickens is the author of A Tale of Two Cities\n"
     ]
    }
   ],
   "source": [
    "book = 'A Tale of Two Cities'\n",
    "txt = author + ' is the author of ' + book\n",
    "print(txt)"
   ]
  },
  {
   "cell_type": "markdown",
   "id": "00cd1484",
   "metadata": {},
   "source": [
    "### Lister"
   ]
  },
  {
   "cell_type": "markdown",
   "id": "f2170c98",
   "metadata": {},
   "source": [
    "#### `list`: Liste (eng. list)"
   ]
  },
  {
   "cell_type": "markdown",
   "id": "543492ea",
   "metadata": {},
   "source": [
    "En liste er en ordnet følge af variable.\n",
    "\n",
    "Fx kan man lave en liste af tal eller en liste med tekststrenge som i eksemplet her, hvor vi definerer en liste af bogtitler og deres tilhørende bedømmelse på Goodreads."
   ]
  },
  {
   "cell_type": "code",
   "execution_count": 28,
   "id": "e19a16d6",
   "metadata": {},
   "outputs": [],
   "source": [
    "titles = [\"A Tale of Two Cities\", \"The Little Prince\", \"The Alchemist\", \"Harry Potter and the Philosopher's Stone\", \"And Then There Were None\"]\n",
    "ratings = [3.87, 4.32, 3.9, 4.47, 4.28]"
   ]
  },
  {
   "cell_type": "markdown",
   "id": "0322466d",
   "metadata": {},
   "source": [
    "##### Tilgå et enkelt element i en liste"
   ]
  },
  {
   "cell_type": "markdown",
   "id": "9ba43a51",
   "metadata": {},
   "source": [
    "Man kan udtrække et enkelt element fra en liste ved at angive dets index. I Python (og mange andre programmeringssprog) er lister 0-indekserede.\n",
    "\n",
    "Det betyder at det første element har index 0. Derfor kan vi få fat i den første bogtitel ved at skrive:"
   ]
  },
  {
   "cell_type": "code",
   "execution_count": 29,
   "id": "4dd07f46",
   "metadata": {},
   "outputs": [
    {
     "data": {
      "text/plain": [
       "'A Tale of Two Cities'"
      ]
     },
     "execution_count": 29,
     "metadata": {},
     "output_type": "execute_result"
    }
   ],
   "source": [
    "titles[0]"
   ]
  },
  {
   "cell_type": "markdown",
   "id": "90854502",
   "metadata": {},
   "source": [
    "Det andet element udtrækkes ved:"
   ]
  },
  {
   "cell_type": "code",
   "execution_count": 30,
   "id": "d6ccaec0",
   "metadata": {},
   "outputs": [
    {
     "data": {
      "text/plain": [
       "'The Little Prince'"
      ]
     },
     "execution_count": 30,
     "metadata": {},
     "output_type": "execute_result"
    }
   ],
   "source": [
    "titles[1]"
   ]
  },
  {
   "cell_type": "markdown",
   "id": "5043ff2d",
   "metadata": {},
   "source": [
    "Det tredje element udtrækkes ved:"
   ]
  },
  {
   "cell_type": "code",
   "execution_count": 31,
   "id": "038b2c09",
   "metadata": {},
   "outputs": [
    {
     "data": {
      "text/plain": [
       "'The Alchemist'"
      ]
     },
     "execution_count": 31,
     "metadata": {},
     "output_type": "execute_result"
    }
   ],
   "source": [
    "titles[2]"
   ]
  },
  {
   "cell_type": "markdown",
   "id": "78135ddf",
   "metadata": {},
   "source": [
    "... og så videre"
   ]
  },
  {
   "cell_type": "markdown",
   "id": "669d6fbe",
   "metadata": {},
   "source": [
    "##### Tilgå en følge af elementer"
   ]
  },
  {
   "cell_type": "markdown",
   "id": "a1545fd7",
   "metadata": {},
   "source": [
    "Vi kan også udtrække et interval af elementer. Fx kan vi få bogtitlerne fra og med index 1 og til men ikke med index 4:"
   ]
  },
  {
   "cell_type": "code",
   "execution_count": 32,
   "id": "4d4b8c2a",
   "metadata": {},
   "outputs": [
    {
     "data": {
      "text/plain": [
       "['The Little Prince',\n",
       " 'The Alchemist',\n",
       " \"Harry Potter and the Philosopher's Stone\"]"
      ]
     },
     "execution_count": 32,
     "metadata": {},
     "output_type": "execute_result"
    }
   ],
   "source": [
    "titles[1:4]"
   ]
  },
  {
   "cell_type": "markdown",
   "id": "2d36572e",
   "metadata": {},
   "source": [
    "Bemærk at en slice som `1:4` ovenfor altid er **inklusiv** det første index, men **eksklusiv** det sidste index."
   ]
  },
  {
   "cell_type": "markdown",
   "id": "aee92839",
   "metadata": {},
   "source": [
    "### Dictionaries"
   ]
  },
  {
   "cell_type": "markdown",
   "id": "d55b0927",
   "metadata": {},
   "source": [
    "#### `dict`: Dictionary (eng. dictionary)"
   ]
  },
  {
   "cell_type": "markdown",
   "id": "f1280c1a",
   "metadata": {},
   "source": [
    "En dictionary bruges til at gemme data, hvor hvert element har en `key` (et \"opslagsord\") og en `value` (\"En værdi/definition af opslagsordet\"). Fx kan vi gemme data om en bog:"
   ]
  },
  {
   "cell_type": "code",
   "execution_count": 33,
   "id": "b1dea558",
   "metadata": {},
   "outputs": [],
   "source": [
    "book = {\n",
    "    \"title\": \"A Tale of Two Cities\",\n",
    "    \"year\": 1859,\n",
    "    \"author\": \"Charles Dickens\",\n",
    "    \"rating\": 3.87\n",
    "}"
   ]
  },
  {
   "cell_type": "markdown",
   "id": "2cbc86df",
   "metadata": {},
   "source": [
    "##### `keys` og `values`"
   ]
  },
  {
   "cell_type": "markdown",
   "id": "ac402dfa",
   "metadata": {},
   "source": [
    "`book`-variablen har 4 forskellige keys, nemlig `\"title\"`, `\"year\"`, `\"author\"` og `\"rating\"` og 4 tilhørende værdier.\n",
    "\n",
    "Vi kan udtrække keys og values sådan her:"
   ]
  },
  {
   "cell_type": "code",
   "execution_count": 34,
   "id": "82089d34",
   "metadata": {},
   "outputs": [
    {
     "data": {
      "text/plain": [
       "dict_keys(['title', 'year', 'author', 'rating'])"
      ]
     },
     "execution_count": 34,
     "metadata": {},
     "output_type": "execute_result"
    }
   ],
   "source": [
    "book.keys()"
   ]
  },
  {
   "cell_type": "code",
   "execution_count": 35,
   "id": "c81d3c17",
   "metadata": {},
   "outputs": [
    {
     "data": {
      "text/plain": [
       "dict_values(['A Tale of Two Cities', 1859, 'Charles Dickens', 3.87])"
      ]
     },
     "execution_count": 35,
     "metadata": {},
     "output_type": "execute_result"
    }
   ],
   "source": [
    "book.values()"
   ]
  },
  {
   "cell_type": "markdown",
   "id": "d1429a7e",
   "metadata": {},
   "source": [
    "##### Udtræk en `value` til en tilhørende `key`"
   ]
  },
  {
   "cell_type": "markdown",
   "id": "737fef58",
   "metadata": {},
   "source": [
    "Man kan selvfølgelig udtrække værdien for et bestemt \"opslagsord\" ved at \"slå op i ordbogen\". Sådan her:"
   ]
  },
  {
   "cell_type": "code",
   "execution_count": 36,
   "id": "ae200e39",
   "metadata": {},
   "outputs": [
    {
     "data": {
      "text/plain": [
       "'A Tale of Two Cities'"
      ]
     },
     "execution_count": 36,
     "metadata": {},
     "output_type": "execute_result"
    }
   ],
   "source": [
    "book['title']"
   ]
  },
  {
   "cell_type": "code",
   "execution_count": 37,
   "id": "ca567d44",
   "metadata": {},
   "outputs": [
    {
     "data": {
      "text/plain": [
       "1859"
      ]
     },
     "execution_count": 37,
     "metadata": {},
     "output_type": "execute_result"
    }
   ],
   "source": [
    "book['year']"
   ]
  },
  {
   "cell_type": "markdown",
   "id": "13a67ef6",
   "metadata": {},
   "source": [
    "##### Kombinér datatyper"
   ]
  },
  {
   "cell_type": "markdown",
   "id": "1520d31d",
   "metadata": {},
   "source": [
    "Vi kan selvfølgelig kombinere datatyper. Fx lave dictionaries med lister inden i eller lister med dictionaries i som nedenfor:"
   ]
  },
  {
   "cell_type": "code",
   "execution_count": 38,
   "id": "1c3d589a",
   "metadata": {},
   "outputs": [],
   "source": [
    "books = [\n",
    "    { \"title\": \"A Tale of Two Cities\", \"year\": 1859, \"author\": \"Charles Dickens\", \"rating\": 3.87 },\n",
    "    { \"title\": \"The Little Prince\", \"year\": 1943, \"author\": \"Antoine de Saint-Exupéry\", \"rating\": 4.32 },\n",
    "    { \"title\": \"The Alchemist\", \"year\": 1988, \"author\": \"Paulo Coelho\", \"rating\": 3.9 },\n",
    "    { \"title\": \"Harry Potter and the Philosopher's Stone\", \"year\": 1997, \"author\": \"J. K. Rowling\", \"rating\": 4.47 },\n",
    "    { \"title\": \"And Then There Were None\", \"year\": 1939, \"author\": \"Agatha Christie\", \"rating\": 4.28 }\n",
    "]"
   ]
  },
  {
   "cell_type": "markdown",
   "id": "d756cc9d",
   "metadata": {},
   "source": [
    "Her kan vi fx udtrække titlen for den tredje bog (med index 2) i listen:"
   ]
  },
  {
   "cell_type": "code",
   "execution_count": 39,
   "id": "54cc06ad",
   "metadata": {},
   "outputs": [
    {
     "data": {
      "text/plain": [
       "'The Alchemist'"
      ]
     },
     "execution_count": 39,
     "metadata": {},
     "output_type": "execute_result"
    }
   ],
   "source": [
    "books[2]['title']"
   ]
  },
  {
   "cell_type": "markdown",
   "id": "67efd423",
   "metadata": {},
   "source": [
    "### Boolske værdier"
   ]
  },
  {
   "cell_type": "markdown",
   "id": "733fc9c9",
   "metadata": {},
   "source": [
    "#### `bool`: Boolsk værdi (eng. boolean)"
   ]
  },
  {
   "cell_type": "markdown",
   "id": "3b77f736",
   "metadata": {},
   "source": [
    "En `bool` er en variabel, der kun kan antage 2 værdier: `True` (sandt) og `False` (falskt). Man kan definere en boolsk variabel direkete ved simpelthen at skrive:"
   ]
  },
  {
   "cell_type": "code",
   "execution_count": 40,
   "id": "0d4f0667",
   "metadata": {},
   "outputs": [
    {
     "data": {
      "text/plain": [
       "(True, False)"
      ]
     },
     "execution_count": 40,
     "metadata": {},
     "output_type": "execute_result"
    }
   ],
   "source": [
    "a = True\n",
    "b = False\n",
    "a, b"
   ]
  },
  {
   "cell_type": "markdown",
   "id": "3c5513a0",
   "metadata": {},
   "source": [
    "#### Sammenligning af størrelser"
   ]
  },
  {
   "cell_type": "markdown",
   "id": "7861b8ce",
   "metadata": {},
   "source": [
    "Boolske værdier fremkommer typisk, når vi sammenligner variable. Fx kan vi for $x=1$ spørge, hvorvidt:\n",
    "1. $x$ er strengt større end $1$? (**falskt**)\n",
    "2. $x$ er strengt mindre end $1$? (**falskt**)\n",
    "3. $x$ er lig $1$? (**sandt**)\n",
    "4. $x$ ikke er lig $1$? (**falskt**)\n",
    "6. $x$ er større eller lig med $1$? (**sandt**)\n",
    "7. $x$ er mindre eller lig med $1$? (**sandt**)\n",
    "\n",
    "I Python gøres dette sådan her:"
   ]
  },
  {
   "cell_type": "code",
   "execution_count": 41,
   "id": "34481a91",
   "metadata": {},
   "outputs": [
    {
     "name": "stdout",
     "output_type": "stream",
     "text": [
      "1. False\n",
      "2. False\n",
      "3. True\n",
      "4. False\n",
      "6. True\n",
      "7. True\n"
     ]
    }
   ],
   "source": [
    "x = 1\n",
    "\n",
    "print('1.', x > 1)\n",
    "print('2.', x < 1)\n",
    "print('3.', x == 1)\n",
    "print('4.', x != 1)\n",
    "print('6.', x >= 1)\n",
    "print('7.', x <= 1)"
   ]
  },
  {
   "cell_type": "markdown",
   "id": "40b3f200",
   "metadata": {},
   "source": [
    "Som et andet eksempel, kan man også tjekke, om en tekstreng er lig en anden tekststreng:"
   ]
  },
  {
   "cell_type": "code",
   "execution_count": 42,
   "id": "05a24ca9",
   "metadata": {},
   "outputs": [
    {
     "name": "stdout",
     "output_type": "stream",
     "text": [
      "True\n"
     ]
    }
   ],
   "source": [
    "name = 'Slim Shady'\n",
    "print(name == 'Slim Shady')"
   ]
  },
  {
   "cell_type": "markdown",
   "id": "7291758b",
   "metadata": {},
   "source": [
    "#### Dobbelt- og enkeltlighedstegn\n",
    "**Bemærk** dobbeltlighedstegnet, `==`, der bruges til den logiske operator, der tjekker, om to værdier er lig hinanden. Enkeltlighedstegn `=` bruges derimod til at definere værdien af en variabel, som vi har set mange eksempler på tidligere."
   ]
  },
  {
   "cell_type": "markdown",
   "id": "2c78d9cf",
   "metadata": {},
   "source": [
    "#### Sammensætning af boolske værdier med logiske operatorer"
   ]
  },
  {
   "cell_type": "markdown",
   "id": "e716c362",
   "metadata": {},
   "source": [
    "Man kan sammensætte boolske værdier med de logiske operatorer `and`, `or` og `not` (svarende til de matematiske operatorer $\\land, \\lor, \\lnot$). Fx"
   ]
  },
  {
   "cell_type": "code",
   "execution_count": 43,
   "id": "8339777e",
   "metadata": {},
   "outputs": [
    {
     "name": "stdout",
     "output_type": "stream",
     "text": [
      "True\n",
      "False\n",
      "False\n"
     ]
    }
   ],
   "source": [
    "x = 1\n",
    "print(x > 0 and x <= 2)\n",
    "print(x <= 0 or x > 2)\n",
    "print(not (x > 0 and x <= 2))"
   ]
  },
  {
   "cell_type": "markdown",
   "id": "1a8d5181",
   "metadata": {},
   "source": [
    "## If ... else statements"
   ]
  },
  {
   "cell_type": "markdown",
   "id": "54765368",
   "metadata": {},
   "source": [
    "Man kan køre kode afhængigt af, om en boolsk værdi er sand eller falsk. Dette gør man, med `if ... else` statements:"
   ]
  },
  {
   "cell_type": "code",
   "execution_count": 44,
   "id": "4561b2c5",
   "metadata": {},
   "outputs": [
    {
     "name": "stdout",
     "output_type": "stream",
     "text": [
      "x is positive\n"
     ]
    }
   ],
   "source": [
    "x = 1\n",
    "if x > 0:\n",
    "    print('x is positive')\n",
    "else:\n",
    "    print('x is not positive')"
   ]
  },
  {
   "cell_type": "markdown",
   "id": "cf416ebc",
   "metadata": {},
   "source": [
    "I eksemplet ovenfor bliver kodelinjen `print('x is positive')` kun kørt, hvis udsagnet `x > 0` er `True`. Hvis $x$ er negativ eller 0, bliver linjen `print('x is not positive')` derimod kørt. Du kan prøve at ændre værdien af $x$ og se, at det stemmer.\n",
    "\n",
    "Bemærk det lille kolon efter hver `if` og `else` statement."
   ]
  },
  {
   "cell_type": "markdown",
   "id": "c75800c7",
   "metadata": {},
   "source": [
    "### Indrykning"
   ]
  },
  {
   "cell_type": "markdown",
   "id": "9b43a5cb",
   "metadata": {},
   "source": [
    "I Python er indrykningen (altså mellemrummet inden kodelinjen) afgørende for, hvilken kode der køres. Se fx. følgende eksempel"
   ]
  },
  {
   "cell_type": "code",
   "execution_count": 45,
   "id": "bf121d86",
   "metadata": {},
   "outputs": [
    {
     "name": "stdout",
     "output_type": "stream",
     "text": [
      "line 3\n"
     ]
    }
   ],
   "source": [
    "x = 1\n",
    "if x != 1:\n",
    "    print('line 1')\n",
    "    print('line 2')\n",
    "print('line 3')"
   ]
  },
  {
   "cell_type": "markdown",
   "id": "69b54c8b",
   "metadata": {},
   "source": [
    "Den tredje linje bliver printet, idet den ikke er indrykket og derfor ikke omfattet af `if`-statement'en."
   ]
  },
  {
   "cell_type": "markdown",
   "id": "7587d356",
   "metadata": {},
   "source": [
    "#### Indlejrede if statements"
   ]
  },
  {
   "cell_type": "markdown",
   "id": "c387c6e7",
   "metadata": {},
   "source": [
    "Med indrykning kan man lave flere if statements inde i hinanden. Fx:"
   ]
  },
  {
   "cell_type": "code",
   "execution_count": 46,
   "id": "21e0a88c",
   "metadata": {},
   "outputs": [
    {
     "name": "stdout",
     "output_type": "stream",
     "text": [
      "x > 0\n",
      "0 < x <= 2\n",
      "0 < x < 2\n"
     ]
    }
   ],
   "source": [
    "x = 1\n",
    "if x > 0:\n",
    "    print('x > 0')\n",
    "    if x <= 2:\n",
    "        print('0 < x <= 2')\n",
    "        if x != 2:\n",
    "            print('0 < x < 2')\n",
    "        else:\n",
    "            print('x is exactly 2')"
   ]
  },
  {
   "cell_type": "markdown",
   "id": "273e9547",
   "metadata": {},
   "source": [
    "### Else if"
   ]
  },
  {
   "cell_type": "markdown",
   "id": "97b93ede",
   "metadata": {},
   "source": [
    "En `elif` statement (forkortelse for \"else if\") bliver kørt, hvis den boolske værdi er sand og de forudgående tilfælde ikke er opfyldt. Fx:"
   ]
  },
  {
   "cell_type": "code",
   "execution_count": 47,
   "id": "0459e0cb",
   "metadata": {},
   "outputs": [
    {
     "name": "stdout",
     "output_type": "stream",
     "text": [
      "0 < x <= 1\n"
     ]
    }
   ],
   "source": [
    "x = 1\n",
    "\n",
    "if x > 2:\n",
    "    print('2 < x')\n",
    "elif x > 1:\n",
    "    print('1 < x <= 2')\n",
    "elif x > 0:\n",
    "    print('0 < x <= 1')\n",
    "else:\n",
    "    print('x <= 0')"
   ]
  },
  {
   "cell_type": "markdown",
   "id": "66ffe20f",
   "metadata": {},
   "source": [
    "## Funktioner"
   ]
  },
  {
   "cell_type": "markdown",
   "id": "ef496783",
   "metadata": {},
   "source": [
    "En funktion er en måde at samle noget kodefunktionalitet på i en kodeblok, som man så kan køre igen og igen, uden at skulle skrive kodelinjerne på ny hver gang.\n",
    "\n",
    "Man kan tænke på en funktion som en maskine, der\n",
    "1. evt. kan tage nogle inputs.\n",
    "2. udfører nogle operationer.\n",
    "3. evt. spytter et output ud igen."
   ]
  },
  {
   "cell_type": "markdown",
   "id": "5790399a",
   "metadata": {},
   "source": [
    "### Funktion uden input og output"
   ]
  },
  {
   "cell_type": "markdown",
   "id": "5edc60a5",
   "metadata": {},
   "source": [
    "Man definerer en funktion i Python ved at skrive:"
   ]
  },
  {
   "cell_type": "code",
   "execution_count": 48,
   "id": "d4c67e91",
   "metadata": {},
   "outputs": [],
   "source": [
    "def print_lines():\n",
    "    print('Line 1')\n",
    "    print('Line 2')"
   ]
  },
  {
   "cell_type": "markdown",
   "id": "b74563c6",
   "metadata": {},
   "source": [
    "Når funktionen er defineret, har vi nu en kommando kaldet `print_lines` til rådighed. I programmeringsterminologi siger man, at man \"kalder funktionen\", når man bruger kommandoen `print_lines` (eng. \"call the function\"):"
   ]
  },
  {
   "cell_type": "code",
   "execution_count": 49,
   "id": "1db34bd6",
   "metadata": {},
   "outputs": [
    {
     "name": "stdout",
     "output_type": "stream",
     "text": [
      "Line 1\n",
      "Line 2\n",
      "Line 1\n",
      "Line 2\n",
      "Line 1\n",
      "Line 2\n"
     ]
    }
   ],
   "source": [
    "print_lines()\n",
    "print_lines()\n",
    "print_lines()"
   ]
  },
  {
   "cell_type": "markdown",
   "id": "7f5c4e9c",
   "metadata": {},
   "source": [
    "**Bemærk**, at vi faktisk allerede har set eksempler på funktioner som fx kommandoen `print()`. Et sted i Pythons maskinrum findes altså også en definition på funktionen `print`."
   ]
  },
  {
   "cell_type": "markdown",
   "id": "6a5565c9",
   "metadata": {},
   "source": [
    "#### Indrykning"
   ]
  },
  {
   "cell_type": "markdown",
   "id": "987ea45a",
   "metadata": {},
   "source": [
    "Indrykningen har også betydning for funktioner. Al \"indmad\" i en funktion skal være indrykket og vil først blive kørt, når funktionen kaldes. Betragt fx følgende eksempel:"
   ]
  },
  {
   "cell_type": "code",
   "execution_count": 53,
   "id": "1240727f",
   "metadata": {},
   "outputs": [
    {
     "name": "stdout",
     "output_type": "stream",
     "text": [
      "Line 3\n",
      "Line 1\n",
      "Line 2\n"
     ]
    }
   ],
   "source": [
    "def print_lines():\n",
    "    print('Line 1')\n",
    "    print('Line 2')\n",
    "print('Line 3')\n",
    "print_lines()"
   ]
  },
  {
   "cell_type": "markdown",
   "id": "1c7f2b77",
   "metadata": {},
   "source": [
    "`'Line 3'` bliver vist først og først når vi kalder funktionen `print_lines()` bliver de to kodelinjer med 'Line 1' og 'Line 2' kørt."
   ]
  },
  {
   "cell_type": "markdown",
   "id": "715f52f8",
   "metadata": {},
   "source": [
    "### Funktion med input, men uden output"
   ]
  },
  {
   "cell_type": "markdown",
   "id": "1a40637e",
   "metadata": {},
   "source": [
    "Funktioner kan tage variable som input mellem paranteserne. Værdier, der gives som input til en funktion kaldes \"argumenter\" (eng. arguments)"
   ]
  },
  {
   "cell_type": "code",
   "execution_count": 50,
   "id": "b843e9a1",
   "metadata": {},
   "outputs": [
    {
     "name": "stdout",
     "output_type": "stream",
     "text": [
      "Hello Slim Shady\n"
     ]
    }
   ],
   "source": [
    "def greet(greeting, name):\n",
    "    print(greeting + ' ' + name)\n",
    "\n",
    "greet('Hello', 'Slim Shady')"
   ]
  },
  {
   "cell_type": "markdown",
   "id": "a1032014",
   "metadata": {},
   "source": [
    "### Funktion med input og output"
   ]
  },
  {
   "cell_type": "markdown",
   "id": "7fe8676d",
   "metadata": {},
   "source": [
    "Når en funktion har kørt sin indmad, kan man få den til at spytte en værdi tilbage til brugeren, der har kaldt funktionen. Dette kaldes at \"returnere\" en værdi. Fx:"
   ]
  },
  {
   "cell_type": "code",
   "execution_count": 56,
   "id": "84a26643",
   "metadata": {},
   "outputs": [
    {
     "name": "stdout",
     "output_type": "stream",
     "text": [
      "3\n"
     ]
    }
   ],
   "source": [
    "def sum_numbers(a, b):\n",
    "    return a + b\n",
    "\n",
    "sum_of_numbers = sum_numbers(1, 2)\n",
    "print(sum_of_numbers)"
   ]
  },
  {
   "cell_type": "markdown",
   "id": "52a7f420",
   "metadata": {},
   "source": [
    "## Løkker (eng. loops)"
   ]
  },
  {
   "cell_type": "markdown",
   "id": "59e6dcf4",
   "metadata": {},
   "source": [
    "Med løkker kan man få kodelinjer til at gentage sig. Den mest anvendelige type løkke er \"for loops\", hvis indmad gentages for hvert element i en liste.\n",
    "\n",
    "Fx kan vi vise alle tekststrenge i en liste:"
   ]
  },
  {
   "cell_type": "code",
   "execution_count": 63,
   "id": "2170371e",
   "metadata": {},
   "outputs": [
    {
     "name": "stdout",
     "output_type": "stream",
     "text": [
      "Hans\n",
      "Grethe\n",
      "Anders\n"
     ]
    }
   ],
   "source": [
    "for name in ['Hans', 'Grethe', 'Anders']:\n",
    "    print(name)"
   ]
  },
  {
   "cell_type": "markdown",
   "id": "2cfa72df",
   "metadata": {},
   "source": [
    "**Bemærk** igen at indrykningen er vigtig."
   ]
  },
  {
   "cell_type": "markdown",
   "id": "09a6c29d",
   "metadata": {},
   "source": [
    "Vi kunne også kvadrere alle tallene i én liste:"
   ]
  },
  {
   "cell_type": "code",
   "execution_count": 67,
   "id": "d0b7831a",
   "metadata": {},
   "outputs": [
    {
     "name": "stdout",
     "output_type": "stream",
     "text": [
      "1\n",
      "4\n",
      "9\n"
     ]
    }
   ],
   "source": [
    "for a in [1, 2, 3]:\n",
    "    print(a**2)"
   ]
  },
  {
   "cell_type": "markdown",
   "id": "5efeb262",
   "metadata": {},
   "source": [
    "#### Funktioner i løkker"
   ]
  },
  {
   "cell_type": "markdown",
   "id": "c0baafab",
   "metadata": {},
   "source": [
    "Man kan selvfølgelig også kalde funktioner i en løkke. Fx kan vi lave en funktion til at omregne vinkler i grader om til vinkler i radianer og køre denne funktion på alle vinkler i en liste:"
   ]
  },
  {
   "cell_type": "code",
   "execution_count": 68,
   "id": "e1c5052f",
   "metadata": {},
   "outputs": [
    {
     "name": "stdout",
     "output_type": "stream",
     "text": [
      "0.0\n",
      "1.5707963267948966\n",
      "3.141592653589793\n"
     ]
    }
   ],
   "source": [
    "import numpy as np\n",
    "\n",
    "def deg_to_rad(deg):\n",
    "    return deg * np.pi/180\n",
    "\n",
    "angles = [0, 90, 180]\n",
    "\n",
    "for angle in angles:\n",
    "    print(deg_to_rad(angle))"
   ]
  },
  {
   "cell_type": "markdown",
   "id": "35be5161",
   "metadata": {},
   "source": [
    "Bemærk, at vi for en sikkerheds skyld igen har importeret NumPy-biblioteket, som vi stiftede bekendskab med noget tidligere. Resultatet ovenfor passer med decimaltalstilnærmelsen for $0$, $\\pi/2$ og $\\pi$ radianer."
   ]
  },
  {
   "cell_type": "markdown",
   "id": "3321be6c",
   "metadata": {},
   "source": [
    "## NumPy"
   ]
  },
  {
   "cell_type": "markdown",
   "id": "c9d7cdf4",
   "metadata": {},
   "source": [
    "NumPy kodebiblioteket har langt mere funktionalitet end blot de elementære matematiske funktioner og konstanter, som vi har set hidtil.\n",
    "\n",
    "Et centralt element i NumPy-pakken er datatypen `numpy.ndarray` også blot kaldet en Array (dog ikke helt det samme som en Array i andre programmeringssprog).\n",
    "\n",
    "Forestil dig, at vi har en liste med datapunkter opsamlet i et eksperiment. Fx $x$ og $y$ positioner i meter fra et skrå kast:"
   ]
  },
  {
   "cell_type": "code",
   "execution_count": 73,
   "id": "3934d914",
   "metadata": {},
   "outputs": [],
   "source": [
    "x = [0, 0.1, 0.2, 0.3, 0.4, 0.5, 0.6, 0.7, 0.8, 0.9, 1]\n",
    "y = [1.03,  1.1 ,  1.14,  1.17,  1.09,  1.  ,  0.87,  0.71,  0.52, 0.29, -0.03]"
   ]
  },
  {
   "cell_type": "markdown",
   "id": "e6349025",
   "metadata": {},
   "source": [
    "Hvis vi skal konvertere positionerne til cm i stedet for m, så skal vi bare gange alle tal med 100.\n",
    "\n",
    "Naivt kunne man måske tænke, at vi bare kan gøre det ved at skrive `x*100`:"
   ]
  },
  {
   "cell_type": "code",
   "execution_count": 74,
   "id": "dbef00d8",
   "metadata": {},
   "outputs": [
    {
     "name": "stdout",
     "output_type": "stream",
     "text": [
      "[0, 0.1, 0.2, 0.3, 0.4, 0.5, 0.6, 0.7, 0.8, 0.9, 1, 0, 0.1, 0.2, 0.3, 0.4, 0.5, 0.6, 0.7, 0.8, 0.9, 1, 0, 0.1, 0.2, 0.3, 0.4, 0.5, 0.6, 0.7, 0.8, 0.9, 1, 0, 0.1, 0.2, 0.3, 0.4, 0.5, 0.6, 0.7, 0.8, 0.9, 1, 0, 0.1, 0.2, 0.3, 0.4, 0.5, 0.6, 0.7, 0.8, 0.9, 1, 0, 0.1, 0.2, 0.3, 0.4, 0.5, 0.6, 0.7, 0.8, 0.9, 1, 0, 0.1, 0.2, 0.3, 0.4, 0.5, 0.6, 0.7, 0.8, 0.9, 1, 0, 0.1, 0.2, 0.3, 0.4, 0.5, 0.6, 0.7, 0.8, 0.9, 1, 0, 0.1, 0.2, 0.3, 0.4, 0.5, 0.6, 0.7, 0.8, 0.9, 1, 0, 0.1, 0.2, 0.3, 0.4, 0.5, 0.6, 0.7, 0.8, 0.9, 1, 0, 0.1, 0.2, 0.3, 0.4, 0.5, 0.6, 0.7, 0.8, 0.9, 1, 0, 0.1, 0.2, 0.3, 0.4, 0.5, 0.6, 0.7, 0.8, 0.9, 1, 0, 0.1, 0.2, 0.3, 0.4, 0.5, 0.6, 0.7, 0.8, 0.9, 1, 0, 0.1, 0.2, 0.3, 0.4, 0.5, 0.6, 0.7, 0.8, 0.9, 1, 0, 0.1, 0.2, 0.3, 0.4, 0.5, 0.6, 0.7, 0.8, 0.9, 1, 0, 0.1, 0.2, 0.3, 0.4, 0.5, 0.6, 0.7, 0.8, 0.9, 1, 0, 0.1, 0.2, 0.3, 0.4, 0.5, 0.6, 0.7, 0.8, 0.9, 1, 0, 0.1, 0.2, 0.3, 0.4, 0.5, 0.6, 0.7, 0.8, 0.9, 1, 0, 0.1, 0.2, 0.3, 0.4, 0.5, 0.6, 0.7, 0.8, 0.9, 1, 0, 0.1, 0.2, 0.3, 0.4, 0.5, 0.6, 0.7, 0.8, 0.9, 1, 0, 0.1, 0.2, 0.3, 0.4, 0.5, 0.6, 0.7, 0.8, 0.9, 1, 0, 0.1, 0.2, 0.3, 0.4, 0.5, 0.6, 0.7, 0.8, 0.9, 1, 0, 0.1, 0.2, 0.3, 0.4, 0.5, 0.6, 0.7, 0.8, 0.9, 1, 0, 0.1, 0.2, 0.3, 0.4, 0.5, 0.6, 0.7, 0.8, 0.9, 1, 0, 0.1, 0.2, 0.3, 0.4, 0.5, 0.6, 0.7, 0.8, 0.9, 1, 0, 0.1, 0.2, 0.3, 0.4, 0.5, 0.6, 0.7, 0.8, 0.9, 1, 0, 0.1, 0.2, 0.3, 0.4, 0.5, 0.6, 0.7, 0.8, 0.9, 1, 0, 0.1, 0.2, 0.3, 0.4, 0.5, 0.6, 0.7, 0.8, 0.9, 1, 0, 0.1, 0.2, 0.3, 0.4, 0.5, 0.6, 0.7, 0.8, 0.9, 1, 0, 0.1, 0.2, 0.3, 0.4, 0.5, 0.6, 0.7, 0.8, 0.9, 1, 0, 0.1, 0.2, 0.3, 0.4, 0.5, 0.6, 0.7, 0.8, 0.9, 1, 0, 0.1, 0.2, 0.3, 0.4, 0.5, 0.6, 0.7, 0.8, 0.9, 1, 0, 0.1, 0.2, 0.3, 0.4, 0.5, 0.6, 0.7, 0.8, 0.9, 1, 0, 0.1, 0.2, 0.3, 0.4, 0.5, 0.6, 0.7, 0.8, 0.9, 1, 0, 0.1, 0.2, 0.3, 0.4, 0.5, 0.6, 0.7, 0.8, 0.9, 1, 0, 0.1, 0.2, 0.3, 0.4, 0.5, 0.6, 0.7, 0.8, 0.9, 1, 0, 0.1, 0.2, 0.3, 0.4, 0.5, 0.6, 0.7, 0.8, 0.9, 1, 0, 0.1, 0.2, 0.3, 0.4, 0.5, 0.6, 0.7, 0.8, 0.9, 1, 0, 0.1, 0.2, 0.3, 0.4, 0.5, 0.6, 0.7, 0.8, 0.9, 1, 0, 0.1, 0.2, 0.3, 0.4, 0.5, 0.6, 0.7, 0.8, 0.9, 1, 0, 0.1, 0.2, 0.3, 0.4, 0.5, 0.6, 0.7, 0.8, 0.9, 1, 0, 0.1, 0.2, 0.3, 0.4, 0.5, 0.6, 0.7, 0.8, 0.9, 1, 0, 0.1, 0.2, 0.3, 0.4, 0.5, 0.6, 0.7, 0.8, 0.9, 1, 0, 0.1, 0.2, 0.3, 0.4, 0.5, 0.6, 0.7, 0.8, 0.9, 1, 0, 0.1, 0.2, 0.3, 0.4, 0.5, 0.6, 0.7, 0.8, 0.9, 1, 0, 0.1, 0.2, 0.3, 0.4, 0.5, 0.6, 0.7, 0.8, 0.9, 1, 0, 0.1, 0.2, 0.3, 0.4, 0.5, 0.6, 0.7, 0.8, 0.9, 1, 0, 0.1, 0.2, 0.3, 0.4, 0.5, 0.6, 0.7, 0.8, 0.9, 1, 0, 0.1, 0.2, 0.3, 0.4, 0.5, 0.6, 0.7, 0.8, 0.9, 1, 0, 0.1, 0.2, 0.3, 0.4, 0.5, 0.6, 0.7, 0.8, 0.9, 1, 0, 0.1, 0.2, 0.3, 0.4, 0.5, 0.6, 0.7, 0.8, 0.9, 1, 0, 0.1, 0.2, 0.3, 0.4, 0.5, 0.6, 0.7, 0.8, 0.9, 1, 0, 0.1, 0.2, 0.3, 0.4, 0.5, 0.6, 0.7, 0.8, 0.9, 1, 0, 0.1, 0.2, 0.3, 0.4, 0.5, 0.6, 0.7, 0.8, 0.9, 1, 0, 0.1, 0.2, 0.3, 0.4, 0.5, 0.6, 0.7, 0.8, 0.9, 1, 0, 0.1, 0.2, 0.3, 0.4, 0.5, 0.6, 0.7, 0.8, 0.9, 1, 0, 0.1, 0.2, 0.3, 0.4, 0.5, 0.6, 0.7, 0.8, 0.9, 1, 0, 0.1, 0.2, 0.3, 0.4, 0.5, 0.6, 0.7, 0.8, 0.9, 1, 0, 0.1, 0.2, 0.3, 0.4, 0.5, 0.6, 0.7, 0.8, 0.9, 1, 0, 0.1, 0.2, 0.3, 0.4, 0.5, 0.6, 0.7, 0.8, 0.9, 1, 0, 0.1, 0.2, 0.3, 0.4, 0.5, 0.6, 0.7, 0.8, 0.9, 1, 0, 0.1, 0.2, 0.3, 0.4, 0.5, 0.6, 0.7, 0.8, 0.9, 1, 0, 0.1, 0.2, 0.3, 0.4, 0.5, 0.6, 0.7, 0.8, 0.9, 1, 0, 0.1, 0.2, 0.3, 0.4, 0.5, 0.6, 0.7, 0.8, 0.9, 1, 0, 0.1, 0.2, 0.3, 0.4, 0.5, 0.6, 0.7, 0.8, 0.9, 1, 0, 0.1, 0.2, 0.3, 0.4, 0.5, 0.6, 0.7, 0.8, 0.9, 1, 0, 0.1, 0.2, 0.3, 0.4, 0.5, 0.6, 0.7, 0.8, 0.9, 1, 0, 0.1, 0.2, 0.3, 0.4, 0.5, 0.6, 0.7, 0.8, 0.9, 1, 0, 0.1, 0.2, 0.3, 0.4, 0.5, 0.6, 0.7, 0.8, 0.9, 1, 0, 0.1, 0.2, 0.3, 0.4, 0.5, 0.6, 0.7, 0.8, 0.9, 1, 0, 0.1, 0.2, 0.3, 0.4, 0.5, 0.6, 0.7, 0.8, 0.9, 1, 0, 0.1, 0.2, 0.3, 0.4, 0.5, 0.6, 0.7, 0.8, 0.9, 1, 0, 0.1, 0.2, 0.3, 0.4, 0.5, 0.6, 0.7, 0.8, 0.9, 1, 0, 0.1, 0.2, 0.3, 0.4, 0.5, 0.6, 0.7, 0.8, 0.9, 1, 0, 0.1, 0.2, 0.3, 0.4, 0.5, 0.6, 0.7, 0.8, 0.9, 1, 0, 0.1, 0.2, 0.3, 0.4, 0.5, 0.6, 0.7, 0.8, 0.9, 1, 0, 0.1, 0.2, 0.3, 0.4, 0.5, 0.6, 0.7, 0.8, 0.9, 1, 0, 0.1, 0.2, 0.3, 0.4, 0.5, 0.6, 0.7, 0.8, 0.9, 1, 0, 0.1, 0.2, 0.3, 0.4, 0.5, 0.6, 0.7, 0.8, 0.9, 1, 0, 0.1, 0.2, 0.3, 0.4, 0.5, 0.6, 0.7, 0.8, 0.9, 1, 0, 0.1, 0.2, 0.3, 0.4, 0.5, 0.6, 0.7, 0.8, 0.9, 1, 0, 0.1, 0.2, 0.3, 0.4, 0.5, 0.6, 0.7, 0.8, 0.9, 1, 0, 0.1, 0.2, 0.3, 0.4, 0.5, 0.6, 0.7, 0.8, 0.9, 1, 0, 0.1, 0.2, 0.3, 0.4, 0.5, 0.6, 0.7, 0.8, 0.9, 1, 0, 0.1, 0.2, 0.3, 0.4, 0.5, 0.6, 0.7, 0.8, 0.9, 1, 0, 0.1, 0.2, 0.3, 0.4, 0.5, 0.6, 0.7, 0.8, 0.9, 1, 0, 0.1, 0.2, 0.3, 0.4, 0.5, 0.6, 0.7, 0.8, 0.9, 1, 0, 0.1, 0.2, 0.3, 0.4, 0.5, 0.6, 0.7, 0.8, 0.9, 1, 0, 0.1, 0.2, 0.3, 0.4, 0.5, 0.6, 0.7, 0.8, 0.9, 1, 0, 0.1, 0.2, 0.3, 0.4, 0.5, 0.6, 0.7, 0.8, 0.9, 1, 0, 0.1, 0.2, 0.3, 0.4, 0.5, 0.6, 0.7, 0.8, 0.9, 1, 0, 0.1, 0.2, 0.3, 0.4, 0.5, 0.6, 0.7, 0.8, 0.9, 1, 0, 0.1, 0.2, 0.3, 0.4, 0.5, 0.6, 0.7, 0.8, 0.9, 1, 0, 0.1, 0.2, 0.3, 0.4, 0.5, 0.6, 0.7, 0.8, 0.9, 1, 0, 0.1, 0.2, 0.3, 0.4, 0.5, 0.6, 0.7, 0.8, 0.9, 1, 0, 0.1, 0.2, 0.3, 0.4, 0.5, 0.6, 0.7, 0.8, 0.9, 1, 0, 0.1, 0.2, 0.3, 0.4, 0.5, 0.6, 0.7, 0.8, 0.9, 1, 0, 0.1, 0.2, 0.3, 0.4, 0.5, 0.6, 0.7, 0.8, 0.9, 1, 0, 0.1, 0.2, 0.3, 0.4, 0.5, 0.6, 0.7, 0.8, 0.9, 1, 0, 0.1, 0.2, 0.3, 0.4, 0.5, 0.6, 0.7, 0.8, 0.9, 1]\n"
     ]
    }
   ],
   "source": [
    "x_cm = x*100\n",
    "print(x_cm)"
   ]
  },
  {
   "cell_type": "markdown",
   "id": "43cc5c98",
   "metadata": {},
   "source": [
    "**Desværre virker det ikke bare at gange en liste med et tal!**\n",
    "\n",
    "I stedet for at gange alle tallene i listen med 100, så har Python kopieret listen 100 gange. Vil man godt have den forventede adfærd, hvor $x$ blev skaleret med 100 i stedet for at blive kopieret 100 gange, så skal man i stedet for en `list` bruge en `numpy.ndarray`:"
   ]
  },
  {
   "cell_type": "markdown",
   "id": "5982fa06",
   "metadata": {},
   "source": [
    "#### `numpy.ndarray`: NumPy Array"
   ]
  },
  {
   "cell_type": "markdown",
   "id": "72e8cc79",
   "metadata": {},
   "source": [
    "Man kan lave en Array med kommandoen `np.array()`, som man skal give en liste som input. Fx kan vi lave en NumPy array ud fra listen `x`:"
   ]
  },
  {
   "cell_type": "code",
   "execution_count": 123,
   "id": "8b79a625",
   "metadata": {},
   "outputs": [
    {
     "data": {
      "text/plain": [
       "array([0. , 0.1, 0.2, 0.3, 0.4, 0.5, 0.6, 0.7, 0.8, 0.9, 1. ])"
      ]
     },
     "execution_count": 123,
     "metadata": {},
     "output_type": "execute_result"
    }
   ],
   "source": [
    "x_np = np.array(x)\n",
    "x_np"
   ]
  },
  {
   "cell_type": "markdown",
   "id": "29c7e2eb",
   "metadata": {},
   "source": [
    "En NumPy array fungerer lidt som en vektor i matematik, så ganger du fx en array med 100, så skaleres hele array'en præcis som vi ønsker det:"
   ]
  },
  {
   "cell_type": "code",
   "execution_count": 124,
   "id": "f1b3a6f3",
   "metadata": {},
   "outputs": [
    {
     "data": {
      "text/plain": [
       "array([  0.,  10.,  20.,  30.,  40.,  50.,  60.,  70.,  80.,  90., 100.])"
      ]
     },
     "execution_count": 124,
     "metadata": {},
     "output_type": "execute_result"
    }
   ],
   "source": [
    "x_np * 100"
   ]
  },
  {
   "cell_type": "markdown",
   "id": "c46aa216",
   "metadata": {},
   "source": [
    "#### Operationer mellem arrays"
   ]
  },
  {
   "cell_type": "markdown",
   "id": "9f66c1ac",
   "metadata": {},
   "source": [
    "Man kan også lave operationer mellem NumPy Arrays. Fx gange to arrays elementvis med hinanden eller trække dem elementvis fra hinanden:"
   ]
  },
  {
   "cell_type": "code",
   "execution_count": 125,
   "id": "c45b2dd0",
   "metadata": {},
   "outputs": [
    {
     "data": {
      "text/plain": [
       "(array([ 4, 10, 18]), array([-3, -3, -3]))"
      ]
     },
     "execution_count": 125,
     "metadata": {},
     "output_type": "execute_result"
    }
   ],
   "source": [
    "u = np.array([1, 2, 3])\n",
    "v = np.array([4, 5, 6])\n",
    "u*v, u-v"
   ]
  },
  {
   "cell_type": "markdown",
   "id": "8a4ea000",
   "metadata": {},
   "source": [
    "#### Matematiske funktioner på arrays"
   ]
  },
  {
   "cell_type": "markdown",
   "id": "c76f61e2",
   "metadata": {},
   "source": [
    "Man kan også udføre matematiske funktioner på samtlige elementer i sin array fx:"
   ]
  },
  {
   "cell_type": "code",
   "execution_count": 127,
   "id": "7a72fd8e",
   "metadata": {},
   "outputs": [
    {
     "data": {
      "text/plain": [
       "array([ 2.71828183,  7.3890561 , 20.08553692])"
      ]
     },
     "execution_count": 127,
     "metadata": {},
     "output_type": "execute_result"
    }
   ],
   "source": [
    "np.exp(u)"
   ]
  },
  {
   "cell_type": "markdown",
   "id": "0ae8e997",
   "metadata": {},
   "source": [
    "#### Vigtigt: En NumPy Array er ikke en liste!"
   ]
  },
  {
   "cell_type": "markdown",
   "id": "a3d4c40d",
   "metadata": {},
   "source": [
    "Det er vigtigt at forstå, at en liste og en NumPy Array ikke er den samme datatype. Ovenstående eksempel på, hvad der sker hvis man ganger med en skalar eller lægger to variable sammen, er et godt eksempel på forskellen mellem de to datatyper."
   ]
  },
  {
   "cell_type": "markdown",
   "id": "bb79475d",
   "metadata": {},
   "source": [
    "#### Matricer og ND Arrays"
   ]
  },
  {
   "cell_type": "markdown",
   "id": "f0f81132",
   "metadata": {},
   "source": [
    "Med NumPy kan man lave meget effektiv numerisk lineær algebra, hvilket er særdeles nyttigt til statistik, databehandling og maskinlæring (AI). Hvis du ikke kender til matrix-regning og lineær algebra, kan du ignorere dette afsnit.\n",
    "\n",
    "En matrix repræsenteres i NumPy som en 2-dimensionel array og kan laves ved at give en liste med lister indeni til `np.array()` kommandoen:"
   ]
  },
  {
   "cell_type": "code",
   "execution_count": 128,
   "id": "b97ec9f6",
   "metadata": {},
   "outputs": [
    {
     "data": {
      "text/plain": [
       "(array([[1, 2],\n",
       "        [3, 4]]),\n",
       " array([[ 0],\n",
       "        [-1]]))"
      ]
     },
     "execution_count": 128,
     "metadata": {},
     "output_type": "execute_result"
    }
   ],
   "source": [
    "A = np.array([  [1, 2], \n",
    "                [3, 4]])\n",
    "B = np.array([  [0], \n",
    "                [-1]])\n",
    "A, B"
   ]
  },
  {
   "cell_type": "markdown",
   "id": "bd771e66",
   "metadata": {},
   "source": [
    "Man kan også lave flerdimensionelle arrays (ND arrays) fx til at repræsentere rgb-pixelværdier i et billede el.lign."
   ]
  },
  {
   "cell_type": "markdown",
   "id": "39c8815a",
   "metadata": {},
   "source": [
    "##### Matrixoperationer og Lineær Algebra\n",
    "\n",
    "**Matrixmultiplikation** udføres med `@`:"
   ]
  },
  {
   "cell_type": "code",
   "execution_count": 129,
   "id": "321c946f",
   "metadata": {},
   "outputs": [
    {
     "data": {
      "text/plain": [
       "array([[-2],\n",
       "       [-4]])"
      ]
     },
     "execution_count": 129,
     "metadata": {},
     "output_type": "execute_result"
    }
   ],
   "source": [
    "A @ B"
   ]
  },
  {
   "cell_type": "markdown",
   "id": "5d3437ae",
   "metadata": {},
   "source": [
    "**Transponering** klares med `.T`:"
   ]
  },
  {
   "cell_type": "code",
   "execution_count": 130,
   "id": "b9d31b25",
   "metadata": {},
   "outputs": [
    {
     "data": {
      "text/plain": [
       "array([[1, 3],\n",
       "       [2, 4]])"
      ]
     },
     "execution_count": 130,
     "metadata": {},
     "output_type": "execute_result"
    }
   ],
   "source": [
    "A.T"
   ]
  },
  {
   "cell_type": "markdown",
   "id": "1279425d",
   "metadata": {},
   "source": [
    "**Prikprodukt** mellem vektorer kan bestemmes ved at kombinere transponering og matrixmultiplikation:"
   ]
  },
  {
   "cell_type": "code",
   "execution_count": 131,
   "id": "5f7ae895",
   "metadata": {},
   "outputs": [
    {
     "data": {
      "text/plain": [
       "25"
      ]
     },
     "execution_count": 131,
     "metadata": {},
     "output_type": "execute_result"
    }
   ],
   "source": [
    "v = np.array([3, 4])\n",
    "v.T @ v"
   ]
  },
  {
   "cell_type": "markdown",
   "id": "d4582e2f",
   "metadata": {},
   "source": [
    "**Vektorlængde** kan fx bestemmes ved at tage kvadratroden af prikproduktet med vektoren selv:"
   ]
  },
  {
   "cell_type": "code",
   "execution_count": 132,
   "id": "8a0ebb8c",
   "metadata": {},
   "outputs": [
    {
     "data": {
      "text/plain": [
       "5.0"
      ]
     },
     "execution_count": 132,
     "metadata": {},
     "output_type": "execute_result"
    }
   ],
   "source": [
    "v_length = np.sqrt(v.T @ v)\n",
    "v_length"
   ]
  },
  {
   "cell_type": "markdown",
   "id": "24d3e11c",
   "metadata": {},
   "source": [
    "Alternativt har `NumPy` et dedikeret `linalg` bibliotek til lineær algebra. Fx kan vi bestemme vektorlængden ved:"
   ]
  },
  {
   "cell_type": "code",
   "execution_count": 133,
   "id": "420ebeed",
   "metadata": {},
   "outputs": [
    {
     "data": {
      "text/plain": [
       "5.0"
      ]
     },
     "execution_count": 133,
     "metadata": {},
     "output_type": "execute_result"
    }
   ],
   "source": [
    "np.linalg.norm(v)"
   ]
  },
  {
   "cell_type": "markdown",
   "id": "26ba3ad5",
   "metadata": {},
   "source": [
    "#### Egenskaber ved arrays"
   ]
  },
  {
   "cell_type": "markdown",
   "id": "f4fb80f5",
   "metadata": {},
   "source": [
    "En array har forskellige egenskaber (eng. properties), som man kan trække ud. De vigtigste er `shape` og `size`, som forklares nedenfor:"
   ]
  },
  {
   "cell_type": "code",
   "execution_count": 152,
   "id": "5c16d808",
   "metadata": {},
   "outputs": [
    {
     "data": {
      "text/plain": [
       "(array([[1, 2, 3],\n",
       "        [4, 5, 6]]),\n",
       " array([1, 2, 3]))"
      ]
     },
     "execution_count": 152,
     "metadata": {},
     "output_type": "execute_result"
    }
   ],
   "source": [
    "A = np.array([  [1, 2, 3], \n",
    "                [4, 5, 6]])\n",
    "u = np.array([1, 2, 3])\n",
    "A, u"
   ]
  },
  {
   "cell_type": "markdown",
   "id": "3b6931ff",
   "metadata": {},
   "source": [
    "##### `.shape`: Formen (ant. rækker, kolonner, etc.) af en array "
   ]
  },
  {
   "cell_type": "code",
   "execution_count": 153,
   "id": "b93a4247",
   "metadata": {},
   "outputs": [
    {
     "data": {
      "text/plain": [
       "((2, 3), (3,))"
      ]
     },
     "execution_count": 153,
     "metadata": {},
     "output_type": "execute_result"
    }
   ],
   "source": [
    "A.shape, u.shape"
   ]
  },
  {
   "cell_type": "markdown",
   "id": "e75d680b",
   "metadata": {},
   "source": [
    "##### `.size`: Antal elementer i array"
   ]
  },
  {
   "cell_type": "code",
   "execution_count": 151,
   "id": "ed8fb3af",
   "metadata": {},
   "outputs": [
    {
     "data": {
      "text/plain": [
       "(6, 3)"
      ]
     },
     "execution_count": 151,
     "metadata": {},
     "output_type": "execute_result"
    }
   ],
   "source": [
    "A.size, u.size"
   ]
  },
  {
   "cell_type": "markdown",
   "id": "08080d20",
   "metadata": {},
   "source": [
    "#### Andre metoder til at lave en NumPy Array"
   ]
  },
  {
   "cell_type": "markdown",
   "id": "a99af20a",
   "metadata": {},
   "source": [
    "Udover `np.array()` har NumPy har en række funktioner til at lave arrays. Fx:"
   ]
  },
  {
   "cell_type": "markdown",
   "id": "c172995d",
   "metadata": {},
   "source": [
    "`np.zeros(shape)`\n",
    "\n",
    "Eksempel: Lav en Array af størrelse $2 \\times 3$ med 0-taller allevegne (svarende til en $2 \\times 3$ matrix):"
   ]
  },
  {
   "cell_type": "code",
   "execution_count": 90,
   "id": "83ad7087",
   "metadata": {},
   "outputs": [
    {
     "data": {
      "text/plain": [
       "array([[0., 0., 0.],\n",
       "       [0., 0., 0.]])"
      ]
     },
     "execution_count": 90,
     "metadata": {},
     "output_type": "execute_result"
    }
   ],
   "source": [
    "np.zeros((2, 3))"
   ]
  },
  {
   "cell_type": "markdown",
   "id": "4d640533",
   "metadata": {},
   "source": [
    "`np.ones(shape)`\n",
    "\n",
    "Eksempel: Lav en Array af størrelse $2 \\times 3$ med 1-taller allevegne:"
   ]
  },
  {
   "cell_type": "code",
   "execution_count": 91,
   "id": "b640c641",
   "metadata": {},
   "outputs": [
    {
     "data": {
      "text/plain": [
       "array([[1., 1., 1.],\n",
       "       [1., 1., 1.]])"
      ]
     },
     "execution_count": 91,
     "metadata": {},
     "output_type": "execute_result"
    }
   ],
   "source": [
    "np.ones((2, 3))"
   ]
  },
  {
   "cell_type": "markdown",
   "id": "a167468f",
   "metadata": {},
   "source": [
    "`np.arange(start, stop)`\n",
    "\n",
    "Eksempel: Lav en 1D Array med tallene fra 1 til og med 6:"
   ]
  },
  {
   "cell_type": "code",
   "execution_count": 92,
   "id": "393b968c",
   "metadata": {},
   "outputs": [
    {
     "data": {
      "text/plain": [
       "array([1, 2, 3, 4, 5, 6])"
      ]
     },
     "execution_count": 92,
     "metadata": {},
     "output_type": "execute_result"
    }
   ],
   "source": [
    "np.arange(1,7)"
   ]
  },
  {
   "cell_type": "code",
   "execution_count": 139,
   "id": "63806723",
   "metadata": {},
   "outputs": [],
   "source": [
    "# x = np.linspace(0, 1, 11)\n",
    "# g = 9.82\n",
    "# theta = np.pi/4\n",
    "# y0 = 1\n",
    "# v0 = 2.2\n",
    "# eps = 0.05* np.random.rand(x.shape[0])\n",
    "# y = y0 -g/(2*(np.cos(theta)**2)*(v0**2)) * (x**2) + np.tan(theta) * x + eps\n",
    "\n",
    "\n",
    "# import matplotlib.pyplot as plt\n",
    "\n",
    "# plt.plot(x, np.round(y, 2), 'k.')\n",
    "# plt.grid()\n",
    "# # plt.xlim(0, 0.5)\n",
    "# plt.ylim(0, 1.3)"
   ]
  },
  {
   "cell_type": "markdown",
   "id": "99ed131e",
   "metadata": {},
   "source": [
    "##"
   ]
  }
 ],
 "metadata": {
  "colab": {
   "collapsed_sections": [
    "8xO0PpNMZltu",
    "R_UaQhuxZJ9n",
    "66d9a012",
    "9bd4b220",
    "af2e113f",
    "6f892cdc",
    "2d9e9210",
    "e4b64c89",
    "29ed3e2b",
    "49db0972",
    "dfea25f4",
    "b3e01365",
    "d49cfe88",
    "118907ea",
    "f8829751",
    "c0818410",
    "16ae841d",
    "c16fa53d",
    "5dcfcf13"
   ],
   "provenance": []
  },
  "kernelspec": {
   "display_name": "Python 3 (ipykernel)",
   "language": "python",
   "name": "python3"
  },
  "language_info": {
   "codemirror_mode": {
    "name": "ipython",
    "version": 3
   },
   "file_extension": ".py",
   "mimetype": "text/x-python",
   "name": "python",
   "nbconvert_exporter": "python",
   "pygments_lexer": "ipython3",
   "version": "3.11.4"
  }
 },
 "nbformat": 4,
 "nbformat_minor": 5
}
